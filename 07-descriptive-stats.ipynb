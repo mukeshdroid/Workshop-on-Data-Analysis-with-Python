{
 "cells": [
  {
   "cell_type": "markdown",
   "id": "eaf8b8ea-27c7-4bc5-9911-bea3192c33d5",
   "metadata": {},
   "source": [
    "### Descriptive Statistics\n",
    "\n",
    "- summarizing and making sense of data numerically"
   ]
  },
  {
   "cell_type": "code",
   "execution_count": 136,
   "id": "0dfffbef-1ef7-43a2-8e03-72e674e885fa",
   "metadata": {},
   "outputs": [],
   "source": [
    "# import necessary modules\n",
    "import pandas as pd\n",
    "import numpy as np"
   ]
  },
  {
   "cell_type": "code",
   "execution_count": 110,
   "id": "b5b2ea67-12e5-4282-8005-e592529ecabc",
   "metadata": {},
   "outputs": [
    {
     "data": {
      "text/html": [
       "<div>\n",
       "<style scoped>\n",
       "    .dataframe tbody tr th:only-of-type {\n",
       "        vertical-align: middle;\n",
       "    }\n",
       "\n",
       "    .dataframe tbody tr th {\n",
       "        vertical-align: top;\n",
       "    }\n",
       "\n",
       "    .dataframe thead th {\n",
       "        text-align: right;\n",
       "    }\n",
       "</style>\n",
       "<table border=\"1\" class=\"dataframe\">\n",
       "  <thead>\n",
       "    <tr style=\"text-align: right;\">\n",
       "      <th></th>\n",
       "      <th>Sepal_Length</th>\n",
       "      <th>Sepal_Width</th>\n",
       "      <th>Petal_Length</th>\n",
       "      <th>Petal_Width</th>\n",
       "      <th>Species</th>\n",
       "    </tr>\n",
       "  </thead>\n",
       "  <tbody>\n",
       "    <tr>\n",
       "      <th>0</th>\n",
       "      <td>5.1</td>\n",
       "      <td>3.5</td>\n",
       "      <td>1.4</td>\n",
       "      <td>0.2</td>\n",
       "      <td>Iris-setosa</td>\n",
       "    </tr>\n",
       "    <tr>\n",
       "      <th>1</th>\n",
       "      <td>4.9</td>\n",
       "      <td>3.0</td>\n",
       "      <td>1.4</td>\n",
       "      <td>0.2</td>\n",
       "      <td>Iris-setosa</td>\n",
       "    </tr>\n",
       "    <tr>\n",
       "      <th>2</th>\n",
       "      <td>4.7</td>\n",
       "      <td>3.2</td>\n",
       "      <td>1.3</td>\n",
       "      <td>0.2</td>\n",
       "      <td>Iris-setosa</td>\n",
       "    </tr>\n",
       "    <tr>\n",
       "      <th>3</th>\n",
       "      <td>4.6</td>\n",
       "      <td>3.1</td>\n",
       "      <td>1.5</td>\n",
       "      <td>0.2</td>\n",
       "      <td>Iris-setosa</td>\n",
       "    </tr>\n",
       "    <tr>\n",
       "      <th>4</th>\n",
       "      <td>5.0</td>\n",
       "      <td>3.6</td>\n",
       "      <td>1.4</td>\n",
       "      <td>0.2</td>\n",
       "      <td>Iris-setosa</td>\n",
       "    </tr>\n",
       "    <tr>\n",
       "      <th>...</th>\n",
       "      <td>...</td>\n",
       "      <td>...</td>\n",
       "      <td>...</td>\n",
       "      <td>...</td>\n",
       "      <td>...</td>\n",
       "    </tr>\n",
       "    <tr>\n",
       "      <th>145</th>\n",
       "      <td>6.7</td>\n",
       "      <td>3.0</td>\n",
       "      <td>5.2</td>\n",
       "      <td>2.3</td>\n",
       "      <td>Iris-virginica</td>\n",
       "    </tr>\n",
       "    <tr>\n",
       "      <th>146</th>\n",
       "      <td>6.3</td>\n",
       "      <td>2.5</td>\n",
       "      <td>5.0</td>\n",
       "      <td>1.9</td>\n",
       "      <td>Iris-virginica</td>\n",
       "    </tr>\n",
       "    <tr>\n",
       "      <th>147</th>\n",
       "      <td>6.5</td>\n",
       "      <td>3.0</td>\n",
       "      <td>5.2</td>\n",
       "      <td>2.0</td>\n",
       "      <td>Iris-virginica</td>\n",
       "    </tr>\n",
       "    <tr>\n",
       "      <th>148</th>\n",
       "      <td>6.2</td>\n",
       "      <td>3.4</td>\n",
       "      <td>5.4</td>\n",
       "      <td>2.3</td>\n",
       "      <td>Iris-virginica</td>\n",
       "    </tr>\n",
       "    <tr>\n",
       "      <th>149</th>\n",
       "      <td>5.9</td>\n",
       "      <td>3.0</td>\n",
       "      <td>5.1</td>\n",
       "      <td>1.8</td>\n",
       "      <td>Iris-virginica</td>\n",
       "    </tr>\n",
       "  </tbody>\n",
       "</table>\n",
       "<p>150 rows × 5 columns</p>\n",
       "</div>"
      ],
      "text/plain": [
       "     Sepal_Length  Sepal_Width  Petal_Length  Petal_Width         Species\n",
       "0             5.1          3.5           1.4          0.2     Iris-setosa\n",
       "1             4.9          3.0           1.4          0.2     Iris-setosa\n",
       "2             4.7          3.2           1.3          0.2     Iris-setosa\n",
       "3             4.6          3.1           1.5          0.2     Iris-setosa\n",
       "4             5.0          3.6           1.4          0.2     Iris-setosa\n",
       "..            ...          ...           ...          ...             ...\n",
       "145           6.7          3.0           5.2          2.3  Iris-virginica\n",
       "146           6.3          2.5           5.0          1.9  Iris-virginica\n",
       "147           6.5          3.0           5.2          2.0  Iris-virginica\n",
       "148           6.2          3.4           5.4          2.3  Iris-virginica\n",
       "149           5.9          3.0           5.1          1.8  Iris-virginica\n",
       "\n",
       "[150 rows x 5 columns]"
      ]
     },
     "execution_count": 110,
     "metadata": {},
     "output_type": "execute_result"
    }
   ],
   "source": [
    "#import the iris data set\n",
    "csv_url = 'https://archive.ics.uci.edu/ml/machine-learning-databases/iris/iris.data'\n",
    "col_names = ['Sepal_Length','Sepal_Width','Petal_Length','Petal_Width','Species']\n",
    "iris =  pd.read_csv(csv_url, names = col_names)\n",
    "iris"
   ]
  },
  {
   "cell_type": "code",
   "execution_count": 111,
   "id": "f6dcfc09-e2c2-4d4b-b543-f1b609a7a86f",
   "metadata": {},
   "outputs": [
    {
     "data": {
      "text/html": [
       "<div>\n",
       "<style scoped>\n",
       "    .dataframe tbody tr th:only-of-type {\n",
       "        vertical-align: middle;\n",
       "    }\n",
       "\n",
       "    .dataframe tbody tr th {\n",
       "        vertical-align: top;\n",
       "    }\n",
       "\n",
       "    .dataframe thead th {\n",
       "        text-align: right;\n",
       "    }\n",
       "</style>\n",
       "<table border=\"1\" class=\"dataframe\">\n",
       "  <thead>\n",
       "    <tr style=\"text-align: right;\">\n",
       "      <th></th>\n",
       "      <th>Sepal_Length</th>\n",
       "      <th>Sepal_Width</th>\n",
       "      <th>Petal_Length</th>\n",
       "      <th>Petal_Width</th>\n",
       "    </tr>\n",
       "  </thead>\n",
       "  <tbody>\n",
       "    <tr>\n",
       "      <th>count</th>\n",
       "      <td>150.000000</td>\n",
       "      <td>150.000000</td>\n",
       "      <td>150.000000</td>\n",
       "      <td>150.000000</td>\n",
       "    </tr>\n",
       "    <tr>\n",
       "      <th>mean</th>\n",
       "      <td>5.843333</td>\n",
       "      <td>3.054000</td>\n",
       "      <td>3.758667</td>\n",
       "      <td>1.198667</td>\n",
       "    </tr>\n",
       "    <tr>\n",
       "      <th>std</th>\n",
       "      <td>0.828066</td>\n",
       "      <td>0.433594</td>\n",
       "      <td>1.764420</td>\n",
       "      <td>0.763161</td>\n",
       "    </tr>\n",
       "    <tr>\n",
       "      <th>min</th>\n",
       "      <td>4.300000</td>\n",
       "      <td>2.000000</td>\n",
       "      <td>1.000000</td>\n",
       "      <td>0.100000</td>\n",
       "    </tr>\n",
       "    <tr>\n",
       "      <th>25%</th>\n",
       "      <td>5.100000</td>\n",
       "      <td>2.800000</td>\n",
       "      <td>1.600000</td>\n",
       "      <td>0.300000</td>\n",
       "    </tr>\n",
       "    <tr>\n",
       "      <th>50%</th>\n",
       "      <td>5.800000</td>\n",
       "      <td>3.000000</td>\n",
       "      <td>4.350000</td>\n",
       "      <td>1.300000</td>\n",
       "    </tr>\n",
       "    <tr>\n",
       "      <th>75%</th>\n",
       "      <td>6.400000</td>\n",
       "      <td>3.300000</td>\n",
       "      <td>5.100000</td>\n",
       "      <td>1.800000</td>\n",
       "    </tr>\n",
       "    <tr>\n",
       "      <th>max</th>\n",
       "      <td>7.900000</td>\n",
       "      <td>4.400000</td>\n",
       "      <td>6.900000</td>\n",
       "      <td>2.500000</td>\n",
       "    </tr>\n",
       "  </tbody>\n",
       "</table>\n",
       "</div>"
      ],
      "text/plain": [
       "       Sepal_Length  Sepal_Width  Petal_Length  Petal_Width\n",
       "count    150.000000   150.000000    150.000000   150.000000\n",
       "mean       5.843333     3.054000      3.758667     1.198667\n",
       "std        0.828066     0.433594      1.764420     0.763161\n",
       "min        4.300000     2.000000      1.000000     0.100000\n",
       "25%        5.100000     2.800000      1.600000     0.300000\n",
       "50%        5.800000     3.000000      4.350000     1.300000\n",
       "75%        6.400000     3.300000      5.100000     1.800000\n",
       "max        7.900000     4.400000      6.900000     2.500000"
      ]
     },
     "execution_count": 111,
     "metadata": {},
     "output_type": "execute_result"
    }
   ],
   "source": [
    "iris.describe()"
   ]
  },
  {
   "cell_type": "markdown",
   "id": "6d47b1bb-284e-4753-b3dd-1303c8f78c20",
   "metadata": {},
   "source": [
    "#### Counting "
   ]
  },
  {
   "cell_type": "code",
   "execution_count": 112,
   "id": "21f9b667-8f5d-4ae8-a460-6aaefa570ca3",
   "metadata": {},
   "outputs": [
    {
     "data": {
      "text/plain": [
       "0         Iris-setosa\n",
       "1         Iris-setosa\n",
       "2         Iris-setosa\n",
       "3         Iris-setosa\n",
       "4         Iris-setosa\n",
       "            ...      \n",
       "145    Iris-virginica\n",
       "146    Iris-virginica\n",
       "147    Iris-virginica\n",
       "148    Iris-virginica\n",
       "149    Iris-virginica\n",
       "Name: Species, Length: 150, dtype: object"
      ]
     },
     "execution_count": 112,
     "metadata": {},
     "output_type": "execute_result"
    }
   ],
   "source": [
    "iris.Species"
   ]
  },
  {
   "cell_type": "code",
   "execution_count": 113,
   "id": "e6c28952-993d-4e46-abb7-a284e7ae1066",
   "metadata": {},
   "outputs": [
    {
     "data": {
      "text/plain": [
       "150"
      ]
     },
     "execution_count": 113,
     "metadata": {},
     "output_type": "execute_result"
    }
   ],
   "source": [
    "iris.Species.count()"
   ]
  },
  {
   "cell_type": "code",
   "execution_count": 114,
   "id": "605f5b94-cfd5-4415-a226-b8be89162f00",
   "metadata": {},
   "outputs": [
    {
     "data": {
      "text/plain": [
       "Species\n",
       "Iris-setosa        50\n",
       "Iris-versicolor    50\n",
       "Iris-virginica     50\n",
       "Name: count, dtype: int64"
      ]
     },
     "execution_count": 114,
     "metadata": {},
     "output_type": "execute_result"
    }
   ],
   "source": [
    "iris.Species.value_counts()"
   ]
  },
  {
   "cell_type": "markdown",
   "id": "7aeeba6d-27da-49a1-b12d-bd900577104f",
   "metadata": {},
   "source": [
    "#### Central Tendency: Mean"
   ]
  },
  {
   "cell_type": "code",
   "execution_count": 115,
   "id": "63cf1a90-c501-4479-8fb8-a789e54c857f",
   "metadata": {},
   "outputs": [
    {
     "data": {
      "text/plain": [
       "5.843333333333334"
      ]
     },
     "execution_count": 115,
     "metadata": {},
     "output_type": "execute_result"
    }
   ],
   "source": [
    "iris.Sepal_Length.mean()"
   ]
  },
  {
   "cell_type": "code",
   "execution_count": 116,
   "id": "ec076020-d019-4829-b2d6-4a0bb25b7926",
   "metadata": {},
   "outputs": [
    {
     "data": {
      "text/plain": [
       "5.843333333333334"
      ]
     },
     "execution_count": 116,
     "metadata": {},
     "output_type": "execute_result"
    }
   ],
   "source": [
    "np.mean(iris.Sepal_Length)"
   ]
  },
  {
   "cell_type": "code",
   "execution_count": 117,
   "id": "e5f34a47-6f3a-4878-ae4b-b296f2464dd0",
   "metadata": {},
   "outputs": [
    {
     "data": {
      "text/plain": [
       "Sepal_Length    4.86\n",
       "Sepal_Width     3.31\n",
       "Petal_Length    1.45\n",
       "Petal_Width     0.22\n",
       "dtype: float64"
      ]
     },
     "execution_count": 117,
     "metadata": {},
     "output_type": "execute_result"
    }
   ],
   "source": [
    "iris.iloc[0:10, 0:4].mean()"
   ]
  },
  {
   "cell_type": "markdown",
   "id": "21b794ce-3f5c-455e-a67d-3af1d9c2c7f6",
   "metadata": {},
   "source": [
    "#### Central Tendency: Median"
   ]
  },
  {
   "cell_type": "code",
   "execution_count": 118,
   "id": "5af70689-fd8f-4dfb-880d-5a3c8bf599bb",
   "metadata": {},
   "outputs": [
    {
     "data": {
      "text/plain": [
       "5.8"
      ]
     },
     "execution_count": 118,
     "metadata": {},
     "output_type": "execute_result"
    }
   ],
   "source": [
    "iris.Sepal_Length.median()"
   ]
  },
  {
   "cell_type": "code",
   "execution_count": 119,
   "id": "6383a595-414e-4e21-8bf7-a760ce2c1256",
   "metadata": {},
   "outputs": [
    {
     "data": {
      "text/plain": [
       "5.8"
      ]
     },
     "execution_count": 119,
     "metadata": {},
     "output_type": "execute_result"
    }
   ],
   "source": [
    "np.median(iris.Sepal_Length)"
   ]
  },
  {
   "cell_type": "code",
   "execution_count": 120,
   "id": "6ecf314d-b740-41e2-b6ce-495ad69924bf",
   "metadata": {},
   "outputs": [
    {
     "data": {
      "text/plain": [
       "Sepal_Length    4.9\n",
       "Petal_Length    1.4\n",
       "dtype: float64"
      ]
     },
     "execution_count": 120,
     "metadata": {},
     "output_type": "execute_result"
    }
   ],
   "source": [
    "# median sepal_length and petal_length of first ten rows\n",
    "iris.loc[0:9, ['Sepal_Length', 'Petal_Length']].median()"
   ]
  },
  {
   "cell_type": "markdown",
   "id": "d03ff613-6582-4014-bcc6-5ab9324fbca4",
   "metadata": {},
   "source": [
    "#### Central Tendency : quantile and percentile\n"
   ]
  },
  {
   "cell_type": "code",
   "execution_count": 121,
   "id": "30f830da-01fd-4172-8844-c89b26ef9072",
   "metadata": {},
   "outputs": [
    {
     "data": {
      "text/plain": [
       "6.4"
      ]
     },
     "execution_count": 121,
     "metadata": {},
     "output_type": "execute_result"
    }
   ],
   "source": [
    "np.percentile(iris.Sepal_Length, q=75)"
   ]
  },
  {
   "cell_type": "code",
   "execution_count": 122,
   "id": "1c117246-1c4a-4c0f-8ddd-7bbb624fd01a",
   "metadata": {},
   "outputs": [
    {
     "data": {
      "text/plain": [
       "6.4"
      ]
     },
     "execution_count": 122,
     "metadata": {},
     "output_type": "execute_result"
    }
   ],
   "source": [
    "np.quantile(iris.Sepal_Length, q=0.75)"
   ]
  },
  {
   "cell_type": "code",
   "execution_count": 123,
   "id": "580e1a4c-4794-4d3e-96a0-ae8280f437d8",
   "metadata": {},
   "outputs": [
    {
     "data": {
      "text/plain": [
       "6.4"
      ]
     },
     "execution_count": 123,
     "metadata": {},
     "output_type": "execute_result"
    }
   ],
   "source": [
    "iris.Sepal_Length.quantile(0.75)"
   ]
  },
  {
   "cell_type": "markdown",
   "id": "aaa8be36-80fc-4b8e-b0db-5042543c67bc",
   "metadata": {},
   "source": [
    "#### Extreme Values : Min and Max\n"
   ]
  },
  {
   "cell_type": "code",
   "execution_count": 124,
   "id": "df1e28c0-36ff-468a-882e-094317a94b85",
   "metadata": {},
   "outputs": [
    {
     "data": {
      "text/plain": [
       "4.3"
      ]
     },
     "execution_count": 124,
     "metadata": {},
     "output_type": "execute_result"
    }
   ],
   "source": [
    "np.min(iris.Sepal_Length)"
   ]
  },
  {
   "cell_type": "code",
   "execution_count": 125,
   "id": "f0c29b14-4ad5-48e1-bd5c-0041e12d6047",
   "metadata": {},
   "outputs": [
    {
     "data": {
      "text/plain": [
       "7.9"
      ]
     },
     "execution_count": 125,
     "metadata": {},
     "output_type": "execute_result"
    }
   ],
   "source": [
    "np.max(iris.Sepal_Length)"
   ]
  },
  {
   "cell_type": "code",
   "execution_count": 126,
   "id": "2592723e-4c1f-4719-9343-3f8916606ba9",
   "metadata": {},
   "outputs": [
    {
     "data": {
      "text/plain": [
       "4.3"
      ]
     },
     "execution_count": 126,
     "metadata": {},
     "output_type": "execute_result"
    }
   ],
   "source": [
    "iris.Sepal_Length.min()"
   ]
  },
  {
   "cell_type": "code",
   "execution_count": 127,
   "id": "4f3b4a86-2365-48f6-9448-447329629689",
   "metadata": {},
   "outputs": [
    {
     "data": {
      "text/plain": [
       "7.9"
      ]
     },
     "execution_count": 127,
     "metadata": {},
     "output_type": "execute_result"
    }
   ],
   "source": [
    "iris.Sepal_Length.max()"
   ]
  },
  {
   "cell_type": "markdown",
   "id": "0c32286a-754b-4ae0-a70b-bd78dfdbb4d9",
   "metadata": {},
   "source": [
    "#### Spread of Data : Variance and Standard Deviation"
   ]
  },
  {
   "cell_type": "code",
   "execution_count": 128,
   "id": "32b04785-1c51-4f62-9ad9-43e807585a2e",
   "metadata": {},
   "outputs": [
    {
     "data": {
      "text/plain": [
       "0.1880040268456376"
      ]
     },
     "execution_count": 128,
     "metadata": {},
     "output_type": "execute_result"
    }
   ],
   "source": [
    "iris.Sepal_Width.var()"
   ]
  },
  {
   "cell_type": "code",
   "execution_count": 129,
   "id": "c2fa3f82-366d-413b-88ca-df374fb127c5",
   "metadata": {},
   "outputs": [
    {
     "data": {
      "text/plain": [
       "0.4335943113621737"
      ]
     },
     "execution_count": 129,
     "metadata": {},
     "output_type": "execute_result"
    }
   ],
   "source": [
    "iris.Sepal_Width.std()"
   ]
  },
  {
   "cell_type": "code",
   "execution_count": 130,
   "id": "f12aa73e-5aeb-4b1b-b172-64c9303f027e",
   "metadata": {},
   "outputs": [
    {
     "data": {
      "text/plain": [
       "0.18675066666666668"
      ]
     },
     "execution_count": 130,
     "metadata": {},
     "output_type": "execute_result"
    }
   ],
   "source": [
    "np.var(iris.Sepal_Width)"
   ]
  },
  {
   "cell_type": "code",
   "execution_count": 131,
   "id": "8cb9b62c-9fbd-47ca-836c-c6ebe116aeb2",
   "metadata": {},
   "outputs": [
    {
     "data": {
      "text/plain": [
       "0.4321465800705435"
      ]
     },
     "execution_count": 131,
     "metadata": {},
     "output_type": "execute_result"
    }
   ],
   "source": [
    "np.std(iris.Sepal_Width)"
   ]
  },
  {
   "cell_type": "markdown",
   "id": "cb7fa535-fac3-4c67-9119-bf38d1db795f",
   "metadata": {},
   "source": [
    "#### Skewness"
   ]
  },
  {
   "cell_type": "markdown",
   "id": "050659f9-1647-427d-aebd-6430810b9719",
   "metadata": {},
   "source": [
    "Skewness is the degree of asymmetry observed in a probability distribution. When data points on a bell curve are not distributed symmetrically to the left and right sides of the median, the bell curve is skewed.\n",
    "![](https://upload.wikimedia.org/wikipedia/commons/thumb/c/cc/Relationship_between_mean_and_median_under_different_skewness.png/434px-Relationship_between_mean_and_median_under_different_skewness.png)"
   ]
  },
  {
   "cell_type": "markdown",
   "id": "75275ce5-6d91-4bd7-8efa-5f4d9cb5cf7d",
   "metadata": {},
   "source": [
    "-0.5 < skewness < 0.5 : Fairly Symmetrical\n",
    "\n",
    "-1.5 < skewness < -0.5 and 0.5 < skewness < 1.5 : Moderately Symmetrical\n",
    "\n",
    "skewness < -1 and skewness > 1 : Highly Skewed"
   ]
  },
  {
   "cell_type": "code",
   "execution_count": 132,
   "id": "b2fa1e2e-ef21-4abf-9962-af07c41e64a8",
   "metadata": {},
   "outputs": [
    {
     "data": {
      "text/plain": [
       "0.3149109566369728"
      ]
     },
     "execution_count": 132,
     "metadata": {},
     "output_type": "execute_result"
    }
   ],
   "source": [
    "iris.Sepal_Length.skew()"
   ]
  },
  {
   "cell_type": "code",
   "execution_count": 133,
   "id": "8cd14b6e-0394-4ada-a283-5b72ec31c407",
   "metadata": {},
   "outputs": [
    {
     "data": {
      "text/plain": [
       "<Axes: ylabel='Density'>"
      ]
     },
     "execution_count": 133,
     "metadata": {},
     "output_type": "execute_result"
    },
    {
     "data": {
      "image/png": "[encoded data removed]",
      "text/plain": [
       "<Figure size 640x480 with 1 Axes>"
      ]
     },
     "metadata": {},
     "output_type": "display_data"
    }
   ],
   "source": [
    "iris.Sepal_Length.plot.kde()"
   ]
  },
  {
   "cell_type": "markdown",
   "id": "66b5a33f-6821-4f1f-807b-1dd8123e4889",
   "metadata": {},
   "source": [
    "#### Kurtosis\n",
    "Kurtosis describes the peakedness of the distribution.\n",
    "![](https://keytodatascience.com/wp-content/uploads/2021/11/Kurtosis1.jpg)"
   ]
  },
  {
   "cell_type": "markdown",
   "id": "04c6ef6b-7682-4b65-b20b-bdceb4b041e8",
   "metadata": {},
   "source": [
    "**Leptokurtic:** Kurtosis > 3\n",
    "\n",
    "**Mesokurtic:** Kurtosis = 3\n",
    "\n",
    "**Platykurtic:** Kurtosis < 3"
   ]
  },
  {
   "cell_type": "code",
   "execution_count": 134,
   "id": "506a44ac-b862-4019-94aa-0c7ab2926180",
   "metadata": {},
   "outputs": [
    {
     "data": {
      "text/plain": [
       "-0.5520640413156395"
      ]
     },
     "execution_count": 134,
     "metadata": {},
     "output_type": "execute_result"
    }
   ],
   "source": [
    "iris.Sepal_Length.kurt()"
   ]
  }
 ],
 "metadata": {
  "kernelspec": {
   "display_name": "edavenv",
   "language": "python",
   "name": "edavenv"
  },
  "language_info": {
   "codemirror_mode": {
    "name": "ipython",
    "version": 3
   },
   "file_extension": ".py",
   "mimetype": "text/x-python",
   "name": "python",
   "nbconvert_exporter": "python",
   "pygments_lexer": "ipython3",
   "version": "3.10.12"
  }
 },
 "nbformat": 4,
 "nbformat_minor": 5
}
