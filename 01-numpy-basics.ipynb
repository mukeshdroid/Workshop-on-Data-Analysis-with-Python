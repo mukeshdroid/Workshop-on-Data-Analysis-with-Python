{
 "cells": [
  {
   "cell_type": "markdown",
   "id": "27f9c6d7-14b9-4b41-a5c5-54b140106518",
   "metadata": {},
   "source": [
    "### Numpy Basics"
   ]
  },
  {
   "cell_type": "code",
   "execution_count": 55,
   "id": "c26c505e-6c8e-4196-8024-35da0ed70db6",
   "metadata": {},
   "outputs": [],
   "source": [
    "import numpy as np"
   ]
  },
  {
   "cell_type": "code",
   "execution_count": 56,
   "id": "2c029a3a-b2e7-4b4d-aafc-974a244bd852",
   "metadata": {},
   "outputs": [
    {
     "data": {
      "text/plain": [
       "[3, 4, 7, -2, 11]"
      ]
     },
     "execution_count": 56,
     "metadata": {},
     "output_type": "execute_result"
    }
   ],
   "source": [
    "my_list = [3, 4, 7, -2, 11]\n",
    "my_list"
   ]
  },
  {
   "cell_type": "code",
   "execution_count": 57,
   "id": "c489240f-b779-4379-accf-47f7d878b329",
   "metadata": {},
   "outputs": [
    {
     "ename": "TypeError",
     "evalue": "can't multiply sequence by non-int of type 'float'",
     "output_type": "error",
     "traceback": [
      "\u001b[0;31m---------------------------------------------------------------------------\u001b[0m",
      "\u001b[0;31mTypeError\u001b[0m                                 Traceback (most recent call last)",
      "Cell \u001b[0;32mIn[57], line 1\u001b[0m\n\u001b[0;32m----> 1\u001b[0m \u001b[43mmy_list\u001b[49m\u001b[43m \u001b[49m\u001b[38;5;241;43m*\u001b[39;49m\u001b[43m \u001b[49m\u001b[38;5;241;43m1.5\u001b[39;49m\n",
      "\u001b[0;31mTypeError\u001b[0m: can't multiply sequence by non-int of type 'float'"
     ]
    }
   ],
   "source": [
    "my_list * 1.5"
   ]
  },
  {
   "cell_type": "code",
   "execution_count": 58,
   "id": "5395bdc0-524d-463d-ac86-b93efe629786",
   "metadata": {},
   "outputs": [
    {
     "data": {
      "text/plain": [
       "array([ 3,  4,  7, -2, 11])"
      ]
     },
     "execution_count": 58,
     "metadata": {},
     "output_type": "execute_result"
    }
   ],
   "source": [
    "my_array = np.array(my_list)\n",
    "my_array"
   ]
  },
  {
   "cell_type": "code",
   "execution_count": 59,
   "id": "4b251555-6557-4c09-adbb-f551615cfb47",
   "metadata": {},
   "outputs": [
    {
     "data": {
      "text/plain": [
       "array([ 4.5,  6. , 10.5, -3. , 16.5])"
      ]
     },
     "execution_count": 59,
     "metadata": {},
     "output_type": "execute_result"
    }
   ],
   "source": [
    "my_array * 1.5"
   ]
  },
  {
   "cell_type": "code",
   "execution_count": 60,
   "id": "6bc1c4e4-29ef-4a96-8012-0ba9b9eb3f63",
   "metadata": {},
   "outputs": [
    {
     "data": {
      "text/plain": [
       "array([1., 1., 1., 1., 1.])"
      ]
     },
     "execution_count": 60,
     "metadata": {},
     "output_type": "execute_result"
    }
   ],
   "source": [
    "np.ones(5)    "
   ]
  },
  {
   "cell_type": "code",
   "execution_count": 61,
   "id": "15c8a4d0-37fe-4c4d-b975-e968965dbf4b",
   "metadata": {},
   "outputs": [
    {
     "data": {
      "text/plain": [
       "array([[0., 0., 0., 0., 0.],\n",
       "       [0., 0., 0., 0., 0.]])"
      ]
     },
     "execution_count": 61,
     "metadata": {},
     "output_type": "execute_result"
    }
   ],
   "source": [
    "np.zeros((2,5))"
   ]
  },
  {
   "cell_type": "code",
   "execution_count": 66,
   "id": "957bbed2-7628-4313-add4-0b848bd3ec5c",
   "metadata": {},
   "outputs": [
    {
     "name": "stdout",
     "output_type": "stream",
     "text": [
      "[[ 5  4  6  4 -3]\n",
      " [ 3 -3  3  2  0]\n",
      " [-2  2  4 -2 -1]\n",
      " [ 0 -3  4  0 -3]]\n"
     ]
    },
    {
     "data": {
      "text/plain": [
       "\u001b[0;31mDocstring:\u001b[0m\n",
       "randint(low, high=None, size=None, dtype=int)\n",
       "\n",
       "Return random integers from `low` (inclusive) to `high` (exclusive).\n",
       "\n",
       "Return random integers from the \"discrete uniform\" distribution of\n",
       "the specified dtype in the \"half-open\" interval [`low`, `high`). If\n",
       "`high` is None (the default), then results are from [0, `low`).\n",
       "\n",
       ".. note::\n",
       "    New code should use the `~numpy.random.Generator.integers`\n",
       "    method of a `~numpy.random.Generator` instance instead;\n",
       "    please see the :ref:`random-quick-start`.\n",
       "\n",
       "Parameters\n",
       "----------\n",
       "low : int or array-like of ints\n",
       "    Lowest (signed) integers to be drawn from the distribution (unless\n",
       "    ``high=None``, in which case this parameter is one above the\n",
       "    *highest* such integer).\n",
       "high : int or array-like of ints, optional\n",
       "    If provided, one above the largest (signed) integer to be drawn\n",
       "    from the distribution (see above for behavior if ``high=None``).\n",
       "    If array-like, must contain integer values\n",
       "size : int or tuple of ints, optional\n",
       "    Output shape.  If the given shape is, e.g., ``(m, n, k)``, then\n",
       "    ``m * n * k`` samples are drawn.  Default is None, in which case a\n",
       "    single value is returned.\n",
       "dtype : dtype, optional\n",
       "    Desired dtype of the result. Byteorder must be native.\n",
       "    The default value is int.\n",
       "\n",
       "    .. versionadded:: 1.11.0\n",
       "\n",
       "Returns\n",
       "-------\n",
       "out : int or ndarray of ints\n",
       "    `size`-shaped array of random integers from the appropriate\n",
       "    distribution, or a single such random int if `size` not provided.\n",
       "\n",
       "See Also\n",
       "--------\n",
       "random_integers : similar to `randint`, only for the closed\n",
       "    interval [`low`, `high`], and 1 is the lowest value if `high` is\n",
       "    omitted.\n",
       "random.Generator.integers: which should be used for new code.\n",
       "\n",
       "Examples\n",
       "--------\n",
       ">>> np.random.randint(2, size=10)\n",
       "array([1, 0, 0, 0, 1, 1, 0, 0, 1, 0]) # random\n",
       ">>> np.random.randint(1, size=10)\n",
       "array([0, 0, 0, 0, 0, 0, 0, 0, 0, 0])\n",
       "\n",
       "Generate a 2 x 4 array of ints between 0 and 4, inclusive:\n",
       "\n",
       ">>> np.random.randint(5, size=(2, 4))\n",
       "array([[4, 0, 2, 1], # random\n",
       "       [3, 2, 2, 0]])\n",
       "\n",
       "Generate a 1 x 3 array with 3 different upper bounds\n",
       "\n",
       ">>> np.random.randint(1, [3, 5, 10])\n",
       "array([2, 2, 9]) # random\n",
       "\n",
       "Generate a 1 by 3 array with 3 different lower bounds\n",
       "\n",
       ">>> np.random.randint([1, 5, 7], 10)\n",
       "array([9, 8, 7]) # random\n",
       "\n",
       "Generate a 2 by 4 array using broadcasting with dtype of uint8\n",
       "\n",
       ">>> np.random.randint([1, 3, 5, 7], [[10], [20]], dtype=np.uint8)\n",
       "array([[ 8,  6,  9,  7], # random\n",
       "       [ 1, 16,  9, 12]], dtype=uint8)\n",
       "\u001b[0;31mType:\u001b[0m      builtin_function_or_method"
      ]
     },
     "metadata": {},
     "output_type": "display_data"
    }
   ],
   "source": [
    "# Run this code a few times to verify that you get -3, but never a +7\n",
    "np.random.randint?\n",
    "rnd_int = np.random.randint(low=-3, high=7, size=(4, 5))\n",
    "print(rnd_int)"
   ]
  },
  {
   "cell_type": "markdown",
   "id": "c16f1da6-54f2-41d1-8b38-7ce5c1840245",
   "metadata": {},
   "source": [
    "#### Getting Lists of linearly seperated Values"
   ]
  },
  {
   "cell_type": "code",
   "execution_count": 42,
   "id": "cf47ed66-6098-442a-bd4e-da11e3dfca6b",
   "metadata": {},
   "outputs": [
    {
     "data": {
      "text/plain": [
       "array([0, 1, 2, 3])"
      ]
     },
     "execution_count": 42,
     "metadata": {},
     "output_type": "execute_result"
    }
   ],
   "source": [
    "np.arange(start=0, stop=4, step=1)"
   ]
  },
  {
   "cell_type": "code",
   "execution_count": 43,
   "id": "16c94779-49d3-4e37-b951-a6b22b987aee",
   "metadata": {},
   "outputs": [
    {
     "data": {
      "text/plain": [
       "array([2, 3, 4, 5])"
      ]
     },
     "execution_count": 43,
     "metadata": {},
     "output_type": "execute_result"
    }
   ],
   "source": [
    "np.arange(start=2, stop=6, step=1)"
   ]
  },
  {
   "cell_type": "code",
   "execution_count": 45,
   "id": "32e13969-d1d1-415e-9a48-19f4bccfd95f",
   "metadata": {},
   "outputs": [
    {
     "data": {
      "text/plain": [
       "array([ 0.        ,  0.20408163,  0.40816327,  0.6122449 ,  0.81632653,\n",
       "        1.02040816,  1.2244898 ,  1.42857143,  1.63265306,  1.83673469,\n",
       "        2.04081633,  2.24489796,  2.44897959,  2.65306122,  2.85714286,\n",
       "        3.06122449,  3.26530612,  3.46938776,  3.67346939,  3.87755102,\n",
       "        4.08163265,  4.28571429,  4.48979592,  4.69387755,  4.89795918,\n",
       "        5.10204082,  5.30612245,  5.51020408,  5.71428571,  5.91836735,\n",
       "        6.12244898,  6.32653061,  6.53061224,  6.73469388,  6.93877551,\n",
       "        7.14285714,  7.34693878,  7.55102041,  7.75510204,  7.95918367,\n",
       "        8.16326531,  8.36734694,  8.57142857,  8.7755102 ,  8.97959184,\n",
       "        9.18367347,  9.3877551 ,  9.59183673,  9.79591837, 10.        ])"
      ]
     },
     "execution_count": 45,
     "metadata": {},
     "output_type": "execute_result"
    }
   ],
   "source": [
    "np.linspace(0,10,50)"
   ]
  },
  {
   "cell_type": "markdown",
   "id": "e4d7e4f5-0cd3-4559-ac33-5b7c17352c0e",
   "metadata": {},
   "source": [
    "#### Constants"
   ]
  },
  {
   "cell_type": "code",
   "execution_count": 46,
   "id": "fbaa54a3-e5b6-4079-b16e-e52deccb000f",
   "metadata": {},
   "outputs": [
    {
     "data": {
      "text/plain": [
       "3.141592653589793"
      ]
     },
     "execution_count": 46,
     "metadata": {},
     "output_type": "execute_result"
    }
   ],
   "source": [
    "np.pi"
   ]
  },
  {
   "cell_type": "code",
   "execution_count": 49,
   "id": "e076c976-956a-4a8e-b0be-cba269c9d8d7",
   "metadata": {},
   "outputs": [
    {
     "data": {
      "text/plain": [
       "2.718281828459045"
      ]
     },
     "execution_count": 49,
     "metadata": {},
     "output_type": "execute_result"
    }
   ],
   "source": [
    "np.e"
   ]
  },
  {
   "cell_type": "markdown",
   "id": "ebd0f5bf-097f-4790-939d-b70befd87705",
   "metadata": {},
   "source": [
    "#### Random Arrays"
   ]
  },
  {
   "cell_type": "code",
   "execution_count": 24,
   "id": "9100f91a-d330-44df-a64c-0034cfff27a2",
   "metadata": {},
   "outputs": [
    {
     "data": {
      "text/plain": [
       "array([0.1416616 , 0.65804421, 0.21859171, 0.57403209, 0.4567118 ,\n",
       "       0.92863735, 0.7820765 , 0.98031375, 0.88281544, 0.00530337])"
      ]
     },
     "execution_count": 24,
     "metadata": {},
     "output_type": "execute_result"
    }
   ],
   "source": [
    "b = np.random.random(10)\n",
    "b"
   ]
  },
  {
   "cell_type": "code",
   "execution_count": 25,
   "id": "7c4304bc-18cb-4fe0-b569-9b1db812072e",
   "metadata": {},
   "outputs": [
    {
     "data": {
      "text/plain": [
       "array([0.        , 0.29246409, 0.19430374, 0.76537612, 0.81193208,\n",
       "       2.06363855, 2.08553733, 3.04986499, 3.13889933, 0.02121348])"
      ]
     },
     "execution_count": 25,
     "metadata": {},
     "output_type": "execute_result"
    }
   ],
   "source": [
    "a = np.linspace(0,4,10)\n",
    "a * b"
   ]
  },
  {
   "cell_type": "code",
   "execution_count": 50,
   "id": "9a701e2c-0645-4bd2-936d-89ed3ca1fe5b",
   "metadata": {},
   "outputs": [
    {
     "data": {
      "text/plain": [
       "12.423229724050302"
      ]
     },
     "execution_count": 50,
     "metadata": {},
     "output_type": "execute_result"
    }
   ],
   "source": [
    "a.dot(b)"
   ]
  },
  {
   "cell_type": "markdown",
   "id": "abed8593-aced-4ed5-9e06-672970e92d30",
   "metadata": {},
   "source": [
    "#### Manipulation of arrays"
   ]
  },
  {
   "cell_type": "code",
   "execution_count": 53,
   "id": "c2432732-1037-45a8-a8e4-1315c44fc5d9",
   "metadata": {},
   "outputs": [
    {
     "data": {
      "text/plain": [
       "array([1.15218668, 1.93101199, 1.24432312, 1.77541126, 1.57887378,\n",
       "       2.53105787, 2.1860068 , 2.66529234, 2.41769701, 1.00531746])"
      ]
     },
     "execution_count": 53,
     "metadata": {},
     "output_type": "execute_result"
    }
   ],
   "source": [
    "ae = np.exp(b)\n",
    "ae"
   ]
  },
  {
   "cell_type": "code",
   "execution_count": 54,
   "id": "7627c542-4183-4e39-bd29-4645613b9ec8",
   "metadata": {},
   "outputs": [
    {
     "data": {
      "text/plain": [
       "array([0.1416616 , 0.65804421, 0.21859171, 0.57403209, 0.4567118 ,\n",
       "       0.92863735, 0.7820765 , 0.98031375, 0.88281544, 0.00530337])"
      ]
     },
     "execution_count": 54,
     "metadata": {},
     "output_type": "execute_result"
    }
   ],
   "source": [
    "np.log(ae)"
   ]
  },
  {
   "cell_type": "markdown",
   "id": "ebb0a9d6-821e-4435-8ae5-61a94ea77c12",
   "metadata": {},
   "source": [
    "\n",
    "<table class=\"my\">\n",
    "  <tr>\n",
    "    <th>Operation</th>\n",
    "    <th>Description</th>\n",
    "  </tr>\n",
    "  <tr >\n",
    "      <td><code>np.sum</code></td>\n",
    "    <td>Sum of entries</td>\n",
    "  </tr>\n",
    "  <tr >\n",
    "    <td><code>np.prod</code></td>\n",
    "    <td>Product (multiplication) of all entries</td>\n",
    "  </tr>\n",
    "  <tr >\n",
    "    <td><code>np.mean</code></td>\n",
    "    <td>Arithmetic average</td>\n",
    "  </tr>\n",
    "  <tr >\n",
    "    <td><code>np.std</code></td>\n",
    "    <td>Standard deviation</td>\n",
    "  </tr>  \n",
    "  <tr >\n",
    "    <td><code>np.var</code></td>\n",
    "    <td>Variance</td>\n",
    "  </tr>  \n",
    "  <tr >\n",
    "    <td><code>np.min</code></td>\n",
    "    <td>Minimum value</td>\n",
    "  </tr>  \n",
    "  <tr >\n",
    "    <td><code>np.max</code></td>\n",
    "    <td>Maximum value</td>\n",
    "  </tr>  \n",
    "  <tr >\n",
    "    <td><code>np.argmin</code></td>\n",
    "    <td>Index of the minimum</td>\n",
    "  </tr>  \n",
    "  <tr >\n",
    "    <td><code>np.argmax</code></td>\n",
    "    <td>Index of the maximum</td>\n",
    "  </tr>  \n",
    "  <tr >\n",
    "    <td><code>np.median</code></td>\n",
    "    <td>Median value</td>\n",
    "  </tr>      \n",
    "</table>"
   ]
  },
  {
   "cell_type": "code",
   "execution_count": 31,
   "id": "5753fabb-f3b1-4c58-9445-2d3f26355bcf",
   "metadata": {},
   "outputs": [
    {
     "name": "stdout",
     "output_type": "stream",
     "text": [
      "Compact matrix multiplication: A@B = \n",
      "[[36 51 66]\n",
      " [26 37 48]\n",
      " [16 23 30]\n",
      " [ 6  9 12]]\n"
     ]
    }
   ],
   "source": [
    "\n",
    "import numpy as np\n",
    "A = np.array([[8, 7], [6, 5], [4, 3], [2, 1]])\n",
    "B = np.array([[1, 2, 3], [4, 5, 6]])\n",
    "X = A @ B\n",
    "print('Compact matrix multiplication: A@B = \\n{}'.format(X))"
   ]
  },
  {
   "cell_type": "markdown",
   "id": "f8a7a19b-94fa-44e4-b9ef-38def83772ec",
   "metadata": {},
   "source": [
    "Other linear algebra commands of interest in the ``linalg`` section of NumPy are:\n",
    "* ``np.linalg.eig`` for eigenvalues and eigenvectors\n",
    "* ``np.linalg.eigvals`` for the eigenvalues only\n",
    "* ``np.linalg.svd``for the singular value decomposition (related to PCA)\n",
    "* ``np.linalg.solve``for solving linear matrix equations\n",
    "* ``np.linalg.solve``for solving linear matrix equations\n"
   ]
  },
  {
   "cell_type": "code",
   "execution_count": null,
   "id": "10ed1080-1983-49df-8c8c-eb884459fd86",
   "metadata": {},
   "outputs": [],
   "source": []
  }
 ],
 "metadata": {
  "kernelspec": {
   "display_name": "edavenv",
   "language": "python",
   "name": "edavenv"
  },
  "language_info": {
   "codemirror_mode": {
    "name": "ipython",
    "version": 3
   },
   "file_extension": ".py",
   "mimetype": "text/x-python",
   "name": "python",
   "nbconvert_exporter": "python",
   "pygments_lexer": "ipython3",
   "version": "3.10.12"
  }
 },
 "nbformat": 4,
 "nbformat_minor": 5
}
